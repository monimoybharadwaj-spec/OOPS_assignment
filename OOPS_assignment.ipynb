{
  "nbformat": 4,
  "nbformat_minor": 0,
  "metadata": {
    "colab": {
      "provenance": []
    },
    "kernelspec": {
      "name": "python3",
      "display_name": "Python 3"
    },
    "language_info": {
      "name": "python"
    }
  },
  "cells": [
    {
      "cell_type": "markdown",
      "source": [
        "# **Theoretical Questions**"
      ],
      "metadata": {
        "id": "pjZHGMdVVsU7"
      }
    },
    {
      "cell_type": "markdown",
      "source": [
        "Question 1. What is Object-Oriented Programming (OOP)?\n",
        "\n",
        "Answer: OOP (Object-Oriented Programming) in Python is a way of organizing code using classes and objects to model real-world entities using attributes and methods."
      ],
      "metadata": {
        "id": "uVELqDSdWUY5"
      }
    },
    {
      "cell_type": "markdown",
      "source": [
        "Question 2. What is a class in OOP?\n",
        "\n",
        "Answer: A class in OOP is a blueprint or template used to create objects, defining their attributes and methods."
      ],
      "metadata": {
        "id": "_9qEr2mrW37Z"
      }
    },
    {
      "cell_type": "markdown",
      "source": [
        "Question 3. What is an object in OOP?\n",
        "\n",
        "Answer: An object in OOP is an instance of a class that contains attributes and methods."
      ],
      "metadata": {
        "id": "9eTEHrqUXeo5"
      }
    },
    {
      "cell_type": "markdown",
      "source": [
        "Question 4. What is the difference between abstraction and encapsulation?\n",
        "\n",
        "Answer: Abstraction is the process of hiding complex implementation details and showing only the essential features, while Encapsulation is the process of bundling data and methods into a single unit (class) and restricting direct access to them."
      ],
      "metadata": {
        "id": "NTIJMahdnjXu"
      }
    },
    {
      "cell_type": "code",
      "source": [
        "# Question 5. What are dunder methods in Python?\n",
        "\n",
        "# Answer: Dunder (double underscore) methods in Python are special built-in methods surrounded by double underscores (e.g., __init__, __str__, __add__)\n",
        "# that allow classes to define custom behavior for objects, such as initialization and operator overloading."
      ],
      "metadata": {
        "id": "_knJu-zNSQyv"
      },
      "execution_count": null,
      "outputs": []
    },
    {
      "cell_type": "markdown",
      "source": [
        "Question 6. Explain the concept of inheritance in OOP.\n",
        "\n",
        "Answer: Inheritance in OOP is the mechanism by which one class called child/subclass can acquire the properties and methods of another class called parent/superclass, allowing code reusability and the ability to add or override features. It is of different types:\n",
        "\n",
        "1. Single Inheritance - A child class inherits from one parent class.\n",
        "\n",
        "2. Multiple Inheritance - A child class inherits from more than one parent class.\n",
        "\n",
        "3. Multilevel Inheritance - A class inherits from a child class, making a chain.\n",
        "\n",
        "4. Hierarchical Inheritance - Multiple child classes inherit from a single parent class.\n",
        "\n",
        "5. Hybrid Inheritance - A combination of two or more types of inheritance."
      ],
      "metadata": {
        "id": "CEzho2mh8vpF"
      }
    },
    {
      "cell_type": "code",
      "source": [
        "# Question 7.  What is polymorphism in OOP?\n",
        "\n",
        "# Answer: Polymorphism in OOP is the ability of the same function, method, or operator to behave differently based on the object or data it is acting upon. Example:\n",
        "\n",
        "class Animal:\n",
        "    def sound(self):\n",
        "        print(\"Animal sound\")\n",
        "\n",
        "class Dog(Animal):\n",
        "    def sound(self):   # Overriding\n",
        "        print(\"Bark\")\n",
        "\n",
        "class Cat(Animal):\n",
        "    def sound(self):   # Overriding\n",
        "        print(\"Meowww\")\n",
        "\n",
        "# Polymorphism in action\n",
        "a = Animal()\n",
        "a.sound()\n",
        "\n",
        "d = Dog()\n",
        "d.sound()\n",
        "\n",
        "c = Cat()\n",
        "c.sound()"
      ],
      "metadata": {
        "colab": {
          "base_uri": "https://localhost:8080/"
        },
        "id": "I_Rb2hB496Jq",
        "outputId": "bf4b04d8-3aa5-4f39-b9f4-9e118205b9ef"
      },
      "execution_count": 2,
      "outputs": [
        {
          "output_type": "stream",
          "name": "stdout",
          "text": [
            "Animal sound\n",
            "Bark\n",
            "Meowww\n"
          ]
        }
      ]
    },
    {
      "cell_type": "markdown",
      "source": [
        "Question 8. How is encapsulation achieved in Python?\n",
        "\n",
        "Answer: Encapsulation in Python is achieved by defining a class that bundles attributes and methods together, and by using access modifiers: public (no underscore), protected (_variable), and private (__variable) to control access to data."
      ],
      "metadata": {
        "id": "B8E8MgrC-mAb"
      }
    },
    {
      "cell_type": "markdown",
      "source": [
        "Question 9. What is a constructor in Python?\n",
        "\n",
        "Answer: A constructor in Python is a special method named __init__() that is automatically called when an object of a class is created, and it is used to initialize the object’s attributes."
      ],
      "metadata": {
        "id": "AjrPRVkuAMUV"
      }
    },
    {
      "cell_type": "markdown",
      "source": [
        "Question 10. What are class and static methods in Python?\n",
        "\n",
        "Answer: In Python, a class method is defined using the @classmethod decorator, takes cls instead of self as the first parameter, and can access or modify class-level attributes shared across all instances. A static method, defined using the @staticmethod decorator, does not take self or cls as a parameter and behaves like a regular function inside the class; it cannot access or modify class or instance attributes but can perform independent tasks related to the class."
      ],
      "metadata": {
        "id": "IxygV7hmARAM"
      }
    },
    {
      "cell_type": "markdown",
      "source": [
        "Question 11. What is method overloading in Python?\n",
        "\n",
        "Answer: Method overloading in Python means defining multiple versions of a method, but since Python does not support it directly, the last method overrides the previous ones; it can be simulated using default arguments or variable-length arguments."
      ],
      "metadata": {
        "id": "Kv9uxtWLAXTJ"
      }
    },
    {
      "cell_type": "markdown",
      "source": [
        "Question 12.  What is method overriding in OOP?\n",
        "\n",
        "Answer: Method Overriding : Method overriding in OOP occurs when a child class defines a method with the same name as in its parent class, and the child class method is executed instead of the parent’s (through inheritance)."
      ],
      "metadata": {
        "id": "MdoNcsL2UICm"
      }
    },
    {
      "cell_type": "markdown",
      "source": [
        "Question 13. What is a property decorator in Python?\n",
        "\n",
        "Answer: The property decorator in Python is used to define a method as a property, allowing access to class methods like attributes (without using parentheses), mainly for encapsulation and controlled attribute access."
      ],
      "metadata": {
        "id": "gb5z61bQUuhN"
      }
    },
    {
      "cell_type": "markdown",
      "source": [
        "Question 14.  Why is polymorphism important in OOP?\n",
        "\n",
        "Answer: Polymorphism is important in OOP because it allows the same method to work with different types of objects, making code more flexible, reusable, and easier to maintain."
      ],
      "metadata": {
        "id": "BAdWSJpWU92f"
      }
    },
    {
      "cell_type": "markdown",
      "source": [
        "Question 15. What is an abstract class in Python?\n",
        "\n",
        "Answer: An abstract class in Python is a class that cannot be instantiated and serves as a blueprint for other classes, containing abstract methods that must be implemented by its subclasses. They are defined using the abc module."
      ],
      "metadata": {
        "id": "RTGg_iNBVSFl"
      }
    },
    {
      "cell_type": "markdown",
      "source": [
        "Question 16. What are the advantages of OOP?\n",
        "\n",
        "Answer: The advantages of OOP are that it provides modularity, reusability, scalability, and maintainability of code. It supports encapsulation to protect data, abstraction to hide implementation details, and polymorphism and inheritance to increase flexibility and reusability. Since OOP models real-world entities, it makes problem-solving and program design more intuitive."
      ],
      "metadata": {
        "id": "gYL69DgssJkC"
      }
    },
    {
      "cell_type": "code",
      "source": [
        "# Question 17. What is the difference between a class variable and an instance variable?\n",
        "\n",
        "# Answer : A class variable is shared by all objects of the class and belongs to the class itself, whereas an instance variable is unique\n",
        "# to each object and belongs only to that particular instance. Example:\n",
        "\n",
        "class Student:\n",
        "    school = \"ABC School\"   # class variable (same for all objects)\n",
        "\n",
        "    def __init__(self, name):\n",
        "        self.name = name    # instance variable (unique for each object)\n",
        "\n",
        "s1 = Student(\"John\")\n",
        "s2 = Student(\"Emma\")\n",
        "\n",
        "print(s1.school, s1.name)\n",
        "print(s2.school, s2.name)\n"
      ],
      "metadata": {
        "colab": {
          "base_uri": "https://localhost:8080/"
        },
        "id": "KcMKg_ams0Tg",
        "outputId": "634ae7a8-0732-4c4f-ed96-ab9ee83fa7bf"
      },
      "execution_count": 4,
      "outputs": [
        {
          "output_type": "stream",
          "name": "stdout",
          "text": [
            "ABC School John\n",
            "ABC School Emma\n"
          ]
        }
      ]
    },
    {
      "cell_type": "code",
      "source": [
        "# Question 18.  What is multiple inheritance in Python?\n",
        "\n",
        "# Answer: Multiple inheritance in Python means a class can inherit from more than one parent class, thus combining features\n",
        "# of multiple classes into a single child class. Example:\n",
        "\n",
        "class ParentClass1:\n",
        "    def method1(self):\n",
        "        print(\"Method1 of parent class 1\")\n",
        "class ParentClass2:\n",
        "    def method2(self):\n",
        "        print(\"Method2 of parent class 2\")\n",
        "\n",
        "class ChildClass(ParentClass1,ParentClass2):\n",
        "    def method_child(self):\n",
        "        print(\"Method of child class\")\n",
        "\n",
        "c1 = ChildClass()\n",
        "c1.method1()\n",
        "c1.method2()\n",
        "c1.method_child()"
      ],
      "metadata": {
        "colab": {
          "base_uri": "https://localhost:8080/"
        },
        "id": "t6N78RNftXwe",
        "outputId": "4e155ad9-60b6-4ce2-8d5e-a40bb8cfab71"
      },
      "execution_count": 5,
      "outputs": [
        {
          "output_type": "stream",
          "name": "stdout",
          "text": [
            "Method1 of parent class 1\n",
            "Method2 of parent class 2\n",
            "Method of child class\n"
          ]
        }
      ]
    },
    {
      "cell_type": "code",
      "source": [
        "# Question 19. Explain the purpose of ‘__str__’ and ‘__repr__’ methods in Python.\n",
        "\n",
        "# Answer : __str__ returns a user-friendly string representation of the object (used by print()), while __repr__ returns an unambiguous string\n",
        "# representation of the object, often used for debugging and ideally can be used to recreate the object."
      ],
      "metadata": {
        "id": "AB5H880qtsNC"
      },
      "execution_count": null,
      "outputs": []
    },
    {
      "cell_type": "code",
      "source": [
        "# Question 20. What is the significance of the ‘super()’ function in Python?\n",
        "\n",
        "# Answer: The super() function in Python is used in a subclass to call methods from its parent class. It helps to reuse parent class code, supports multiple\n",
        "# inheritance by following the method resolution order (MRO), and improves code maintainability.Example:\n",
        "\n",
        "class Animal:\n",
        "    def speak(self):\n",
        "        print(\"Animal speaks\")\n",
        "\n",
        "class Dog(Animal):\n",
        "    def speak(self):\n",
        "        super().speak()  # Calls parent method\n",
        "        print(\"Dog barks\")\n",
        "\n",
        "Dog().speak()"
      ],
      "metadata": {
        "colab": {
          "base_uri": "https://localhost:8080/"
        },
        "id": "NiJ1h1iKKTGw",
        "outputId": "2d18badd-5f8f-42b6-88ac-202138afbeeb"
      },
      "execution_count": 6,
      "outputs": [
        {
          "output_type": "stream",
          "name": "stdout",
          "text": [
            "Animal speaks\n",
            "Dog barks\n"
          ]
        }
      ]
    },
    {
      "cell_type": "code",
      "source": [
        "# Question 21. What is the significance of the __del__ method in Python?\n",
        "\n",
        "# Answer : The __del__ method in Python is a destructor that is automatically called when an object is about to be destroyed by the garbage collector.\n",
        "# It is mainly used to perform cleanup tasks (like closing files or releasing resources). Note that using del only decreases the reference count of\n",
        "# an object, while __del__ is invoked when the object is actually destroyed."
      ],
      "metadata": {
        "id": "DUvA8CCwxKM2"
      },
      "execution_count": null,
      "outputs": []
    },
    {
      "cell_type": "markdown",
      "source": [
        "Question 22.  What is the difference between @staticmethod and @classmethod in Python?\n",
        "\n",
        "Answer : @staticmethod - A method that does not take self or cls as the first argument. It behaves like a normal function inside a class, cannot access or modify class/instance state, and only works with the parameters passed.\n",
        "\n",
        "@classmethod - A method that takes cls as the first argument. It is bound to the class (not instances), can access and modify class variables, and its changes reflect across all instances of the class."
      ],
      "metadata": {
        "id": "8pnY0h4SzzzN"
      }
    },
    {
      "cell_type": "code",
      "source": [
        "# Question 23.  How does polymorphism work in Python with inheritance?\n",
        "\n",
        "# Answer : Polymorphism in Python with inheritance works when a child class overrides a method of the parent class, and the same method name behaves\n",
        "# differently depending on the object that calls it.\n",
        "\n",
        "class Animal:\n",
        "    def sound(self):\n",
        "        print(\"Some sound\")\n",
        "\n",
        "class Dog(Animal):\n",
        "    def sound(self):\n",
        "        print(\"Bark!\")\n",
        "\n",
        "a = Animal()\n",
        "d = Dog()\n",
        "\n",
        "a.sound()\n",
        "d.sound()"
      ],
      "metadata": {
        "colab": {
          "base_uri": "https://localhost:8080/"
        },
        "id": "PEo13KctITsp",
        "outputId": "cfc80f0c-fd30-48b8-b336-c5990264daba"
      },
      "execution_count": 2,
      "outputs": [
        {
          "output_type": "stream",
          "name": "stdout",
          "text": [
            "Some sound\n",
            "Bark!\n"
          ]
        }
      ]
    },
    {
      "cell_type": "code",
      "source": [
        "# Question 24. What is method chaining in Python OOP?\n",
        "\n",
        "# Answer : Method chaining in Python OOP means calling multiple methods on the same object in a single line, because each method returns the object itself (return self).\n",
        "\n",
        "class Person:\n",
        "    def __init__(self, name):\n",
        "        self.name = name\n",
        "\n",
        "    def greet(self):\n",
        "        print(f\"Hello, I'm {self.name}\")\n",
        "        return self\n",
        "\n",
        "    def walk(self):\n",
        "        print(\"I is walking.\")\n",
        "        return self\n",
        "\n",
        "# Method chaining\n",
        "p = Person(\"Louis\")\n",
        "p.greet().walk()"
      ],
      "metadata": {
        "colab": {
          "base_uri": "https://localhost:8080/"
        },
        "id": "vyz2rlEyIuof",
        "outputId": "aa639948-3110-4bec-f7bc-f4dea32ee7e7"
      },
      "execution_count": 5,
      "outputs": [
        {
          "output_type": "stream",
          "name": "stdout",
          "text": [
            "Hello, I'm Louis\n",
            "I is walking.\n"
          ]
        },
        {
          "output_type": "execute_result",
          "data": {
            "text/plain": [
              "<__main__.Person at 0x7d35328172c0>"
            ]
          },
          "metadata": {},
          "execution_count": 5
        }
      ]
    },
    {
      "cell_type": "code",
      "source": [
        "# Question 25. What is the purpose of the __call__ method in Python?\n",
        "\n",
        "# Answer: The __call__ method in Python allows an object of a class to be called like a function."
      ],
      "metadata": {
        "id": "4IiB5aNzJeba"
      },
      "execution_count": null,
      "outputs": []
    },
    {
      "cell_type": "markdown",
      "source": [
        "# **Practical Questions**"
      ],
      "metadata": {
        "id": "f0FF_K83Tjqu"
      }
    },
    {
      "cell_type": "code",
      "source": [
        "# Question 1. Create a parent class Animal with a method speak() that prints a generic message. Create a child class Dog that overrides the speak() method to print \"Bark!\".\n",
        "\n",
        "# Answer:\n",
        "class Animal:\n",
        "    def speak(self):\n",
        "        print(\"The animal speaks.\")\n",
        "\n",
        "class Dog(Animal):\n",
        "    def speak(self):\n",
        "        print(\"The dog barks.\")\n",
        "\n",
        "a = Animal()\n",
        "a.speak()\n",
        "\n",
        "d = Dog()\n",
        "d.speak()"
      ],
      "metadata": {
        "colab": {
          "base_uri": "https://localhost:8080/"
        },
        "id": "lCMxGwelmmIv",
        "outputId": "585a9943-0903-46fc-c9d9-71160e8acc0a"
      },
      "execution_count": 3,
      "outputs": [
        {
          "output_type": "stream",
          "name": "stdout",
          "text": [
            "The animal speaks.\n",
            "The dog barks.\n"
          ]
        }
      ]
    },
    {
      "cell_type": "code",
      "source": [
        "# Question 2.  Write a program to create an abstract class Shape with a method area(). Derive classes Circle and Rectangle from it and implement the area() method in both.\n",
        "\n",
        "# Answer:\n",
        "\n",
        "import abc\n",
        "\n",
        "class Shape(abc.ABC):\n",
        "    @abc.abstractmethod\n",
        "    def area(self):\n",
        "        pass\n",
        "\n",
        "class Circle(Shape):\n",
        "    def __init__(self, radius):\n",
        "        self.radius = radius\n",
        "\n",
        "    def area(self):\n",
        "        return 3.1416 * self.radius ** 2\n",
        "\n",
        "class Rectangle(Shape):\n",
        "    def __init__(self, length, width):\n",
        "        self.length = length\n",
        "        self.width = width\n",
        "\n",
        "    def area(self):\n",
        "        return self.length * self.width\n",
        "\n",
        "c = Circle(5)\n",
        "print(\"Area of Circle:\", c.area())\n",
        "\n",
        "r = Rectangle(4, 6)\n",
        "print(\"Area of Rectangle:\", r.area())"
      ],
      "metadata": {
        "id": "0UIAMBrqo71s",
        "colab": {
          "base_uri": "https://localhost:8080/"
        },
        "outputId": "95b9e996-b94f-4e65-8542-0fdd2c61b095"
      },
      "execution_count": 8,
      "outputs": [
        {
          "output_type": "stream",
          "name": "stdout",
          "text": [
            "Area of Circle: 78.53999999999999\n",
            "Area of Rectangle: 24\n"
          ]
        }
      ]
    },
    {
      "cell_type": "code",
      "source": [
        "# Question 3. Implement a multi-level inheritance scenario where a class Vehicle has an attribute type. Derive a class Car and further derive a class ElectricCar\n",
        "# that adds a battery attribute.\n",
        "\n",
        "# Answer :\n",
        "\n",
        "class Vehicle:\n",
        "    def __init__(self):\n",
        "        self.type = \"Vehicle\"\n",
        "\n",
        "class Car(Vehicle):\n",
        "    def __init__(self, brand):\n",
        "        self.type = \"Car\"\n",
        "        self.brand = brand\n",
        "\n",
        "class ElectricCar(Car):\n",
        "    def __init__(self, brand, battery):\n",
        "        self.type = \"Electric\"\n",
        "        self.brand = brand\n",
        "        self.battery = battery\n",
        "\n",
        "    def display(self):\n",
        "        print(f\"Type: {self.type}\")\n",
        "        print(f\"Brand: {self.brand}\")\n",
        "        print(f\"Battery: {self.battery} kWh\")\n",
        "\n",
        "ecar = ElectricCar(\"MG Comet\", 45)\n",
        "ecar.display()"
      ],
      "metadata": {
        "colab": {
          "base_uri": "https://localhost:8080/"
        },
        "id": "e4kFudhSLr8D",
        "outputId": "1f3a1965-52fe-4829-aca5-9547020f78a3"
      },
      "execution_count": 15,
      "outputs": [
        {
          "output_type": "stream",
          "name": "stdout",
          "text": [
            "Type: Electric\n",
            "Brand: MG Comet\n",
            "Battery: 45 kWh\n"
          ]
        }
      ]
    },
    {
      "cell_type": "code",
      "source": [
        "# Question 4. Demonstrate polymorphism by creating a base class Bird with a method fly(). Create two derived classes Sparrow and Penguin that override the fly() method.\n",
        "\n",
        "# Answer :\n",
        "\n",
        "class Bird:\n",
        "  def fly(self):\n",
        "    print(\"The Bird is flying.\")\n",
        "\n",
        "class Sparrow(Bird):\n",
        "  def fly(self):\n",
        "    print(\"The Sparrow is flying.\")\n",
        "\n",
        "class Penguin(Bird):\n",
        "  def fly(self):\n",
        "    print(\"The Penguin is not flying.\")\n",
        "\n",
        "b = Bird()\n",
        "b.fly()\n",
        "\n",
        "s = Sparrow()\n",
        "s.fly()\n",
        "\n",
        "p = Penguin()\n",
        "p.fly()"
      ],
      "metadata": {
        "colab": {
          "base_uri": "https://localhost:8080/"
        },
        "id": "8bTB4tXxhyu7",
        "outputId": "24b63460-ad2e-471a-8792-58f85e4af5cc"
      },
      "execution_count": 16,
      "outputs": [
        {
          "output_type": "stream",
          "name": "stdout",
          "text": [
            "The Bird is flying.\n",
            "The Sparrow is flying.\n",
            "The Penguin is not flying.\n"
          ]
        }
      ]
    },
    {
      "cell_type": "code",
      "source": [
        "# Question 5.  Write a program to demonstrate encapsulation by creating a class BankAccount with private attributes balance and methods to deposit, withdraw, and check balance.\n",
        "\n",
        "# Answer :\n",
        "\n",
        "class BankAccount:\n",
        "  def __init__(self, balance):\n",
        "    self.__balance = balance\n",
        "\n",
        "  def deposit(self, amount):\n",
        "    if amount > 0:\n",
        "      self.__balance = self.__balance + amount\n",
        "    else:\n",
        "      print(\"Invalid amount.\")\n",
        "\n",
        "  def withdraw(self, amount):\n",
        "    if amount > 0 and amount <= self.__balance:\n",
        "      self.__balance = self.__balance - amount\n",
        "    else:\n",
        "      print(\"Invalid amount or insufficient balance.\")\n",
        "\n",
        "  def check_balance(self):\n",
        "    return self.__balance\n",
        "\n",
        "account = BankAccount(1000)\n",
        "account.deposit(2000)\n",
        "print(account.check_balance())\n",
        "account.withdraw(500)\n",
        "print(account.check_balance())"
      ],
      "metadata": {
        "colab": {
          "base_uri": "https://localhost:8080/"
        },
        "id": "KwneM_5ll9mt",
        "outputId": "d4be053e-316f-45b1-e0a2-ef687a289742"
      },
      "execution_count": 21,
      "outputs": [
        {
          "output_type": "stream",
          "name": "stdout",
          "text": [
            "3000\n",
            "2500\n"
          ]
        }
      ]
    },
    {
      "cell_type": "code",
      "source": [
        "# Question 6. Demonstrate runtime polymorphism using a method play() in a base class Instrument. Derive classes Guitar and Piano that implement their own version of play().\n",
        "\n",
        "# Answer :\n",
        "\n",
        "class Instrument:\n",
        "  def play(self):\n",
        "    print(\"Some Instrument is playing.\")\n",
        "\n",
        "class Guitar(Instrument):\n",
        "  def play(self):\n",
        "    print(\"The Guitar is playing.\")\n",
        "\n",
        "class Piano(Instrument):\n",
        "  def play(self):\n",
        "    print(\"The Piano is playing.\")\n",
        "\n",
        "obj1 = Guitar()\n",
        "obj1.play()\n",
        "\n",
        "obj2 = Piano()\n",
        "obj2.play()\n",
        "\n",
        "obj3 = Instrument()\n",
        "obj3.play()"
      ],
      "metadata": {
        "colab": {
          "base_uri": "https://localhost:8080/"
        },
        "id": "5Bjr4DK1nBKT",
        "outputId": "ae42755b-59a5-42d6-c0ed-31a554de8c08"
      },
      "execution_count": 24,
      "outputs": [
        {
          "output_type": "stream",
          "name": "stdout",
          "text": [
            "The Guitar is playing.\n",
            "The Piano is playing.\n",
            "Some Instrument is playing.\n"
          ]
        }
      ]
    },
    {
      "cell_type": "code",
      "source": [
        "# Question 7. Create a class MathOperations with a class method add_numbers() to add two numbers and a static method subtract_numbers() to subtract two numbers.\n",
        "\n",
        "# Answer :\n",
        "\n",
        "class MathOperations:\n",
        "\n",
        "  @classmethod\n",
        "  def add_numbers(cls, x, y):\n",
        "    return x + y\n",
        "\n",
        "  @staticmethod\n",
        "  def subtract_numbers(x, y):\n",
        "    return x - y\n",
        "\n",
        "print(MathOperations.add_numbers(5, 3))\n",
        "print(MathOperations.subtract_numbers(10, 4))"
      ],
      "metadata": {
        "colab": {
          "base_uri": "https://localhost:8080/"
        },
        "id": "rt9O5xKMoURC",
        "outputId": "072f5758-f6ef-49c8-e7bb-7de2d6abb935"
      },
      "execution_count": 25,
      "outputs": [
        {
          "output_type": "stream",
          "name": "stdout",
          "text": [
            "8\n",
            "6\n"
          ]
        }
      ]
    },
    {
      "cell_type": "code",
      "source": [
        "# Question 8. Implement a class Person with a class method to count the total number of persons created.\n",
        "\n",
        "# Answer :\n",
        "\n",
        "class Person:\n",
        "  count = 0\n",
        "\n",
        "  def __init__(self, name):\n",
        "    Person.count += 1\n",
        "\n",
        "  @classmethod\n",
        "  def get_count(cls):\n",
        "    return cls.count\n",
        "\n",
        "person1 = Person(\"Bill\")\n",
        "person2 = Person(\"Jack\")\n",
        "person3 = Person(\"King\")\n",
        "person4 = Person(\"Jill\")\n",
        "\n",
        "print(Person.get_count())"
      ],
      "metadata": {
        "colab": {
          "base_uri": "https://localhost:8080/"
        },
        "id": "59k9wv5LpK5_",
        "outputId": "2581a5bc-f12e-45df-eb79-a345e5b21b0f"
      },
      "execution_count": 29,
      "outputs": [
        {
          "output_type": "stream",
          "name": "stdout",
          "text": [
            "4\n"
          ]
        }
      ]
    },
    {
      "cell_type": "code",
      "source": [
        "# Question 9. Write a class Fraction with attributes numerator and denominator. Override the str method to display the fraction as \"numerator/denominator\".\n",
        "\n",
        "# Answer :\n",
        "\n",
        "class Fraction:\n",
        "    def __init__(self, numerator, denominator):\n",
        "        self.numerator = numerator\n",
        "        self.denominator = denominator\n",
        "\n",
        "    def __str__(self):\n",
        "        return f\"{self.numerator}/{self.denominator}\"\n",
        "\n",
        "f1 = Fraction(3, 4)\n",
        "print(f1)"
      ],
      "metadata": {
        "colab": {
          "base_uri": "https://localhost:8080/"
        },
        "id": "XkbXLsyhp4i5",
        "outputId": "89e1b30c-cd60-4567-9c41-de4fb0708f16"
      },
      "execution_count": 30,
      "outputs": [
        {
          "output_type": "stream",
          "name": "stdout",
          "text": [
            "3/4\n"
          ]
        }
      ]
    },
    {
      "cell_type": "code",
      "source": [
        "# Question 10. Demonstrate operator overloading by creating a class Vector and overriding the add method to add two vectors.\n",
        "\n",
        "# Answer :\n",
        "\n",
        "class Vector:\n",
        "    def __init__(self, x, y):\n",
        "        self.x = x\n",
        "        self.y = y\n",
        "\n",
        "    def __add__(self, other):\n",
        "        return Vector(self.x + other.x, self.y + other.y)\n",
        "\n",
        "    def __str__(self):\n",
        "        return f\"({self.x}, {self.y})\"\n",
        "\n",
        "v1 = Vector(2, 9)\n",
        "v2 = Vector(6, 5)\n",
        "\n",
        "v3 = v1 + v2\n",
        "print(v3)"
      ],
      "metadata": {
        "colab": {
          "base_uri": "https://localhost:8080/"
        },
        "id": "Or2APH8Kq92Q",
        "outputId": "59beb1cb-15da-40e4-f3a3-72ec3052b1e9"
      },
      "execution_count": 31,
      "outputs": [
        {
          "output_type": "stream",
          "name": "stdout",
          "text": [
            "(8, 14)\n"
          ]
        }
      ]
    },
    {
      "cell_type": "code",
      "source": [
        "# Question 11. Create a class Person with attributes name and age. Add a method greet() that prints \"Hello, my name is {name} and I am {age} years old.\"\n",
        "\n",
        "# Answer :\n",
        "\n",
        "class Person:\n",
        "  def __init__(self, name, age):\n",
        "    self.name = name\n",
        "    self.age = age\n",
        "\n",
        "  def greet(self):\n",
        "    print(f\"Hello, my name is {self.name} and I am {self.age} years old.\")\n",
        "\n",
        "obj = Person(\"Mark Henry\", 39)\n",
        "obj.greet()"
      ],
      "metadata": {
        "colab": {
          "base_uri": "https://localhost:8080/"
        },
        "id": "CHuVcVxwrjlo",
        "outputId": "668f1c44-1f50-4201-fe91-239569c9184b"
      },
      "execution_count": 34,
      "outputs": [
        {
          "output_type": "stream",
          "name": "stdout",
          "text": [
            "Hello, my name is Mark Henry and I am 39 years old.\n"
          ]
        }
      ]
    },
    {
      "cell_type": "code",
      "source": [
        "# Question 12.  Implement a class Student with attributes name and grades. Create a method average_grade() to compute the average of the grades.\n",
        "\n",
        "# Answer :\n",
        "\n",
        "class Student:\n",
        "  def __init__(self, name, grades):\n",
        "    self.name = name\n",
        "    self.grades = grades\n",
        "\n",
        "  def average_grade(self):\n",
        "        total = 0\n",
        "        for grade in self.grades:\n",
        "            total += grade\n",
        "        return total / len(self.grades)\n",
        "\n",
        "stud = Student(\"Alice\", [80, 90, 75, 85, 100])\n",
        "print(f\"{stud.name}'s average grade:\", stud.average_grade())"
      ],
      "metadata": {
        "colab": {
          "base_uri": "https://localhost:8080/"
        },
        "id": "jpRgu5OHsCdn",
        "outputId": "bdd960dc-dd5b-44de-965a-fabcfffd5af0"
      },
      "execution_count": 37,
      "outputs": [
        {
          "output_type": "stream",
          "name": "stdout",
          "text": [
            "Alice's average grade: 86.0\n"
          ]
        }
      ]
    },
    {
      "cell_type": "code",
      "source": [
        "# Question 13. Create a class Rectangle with methods set_dimensions() to set the dimensions and area() to calculate the area.\n",
        "\n",
        "# Answer :\n",
        "\n",
        "class Rectangle:\n",
        "    def set_dimensions(self, length, width):\n",
        "        self.length = length\n",
        "        self.width = width\n",
        "\n",
        "    def area(self):\n",
        "        return self.length * self.width\n",
        "\n",
        "rect = Rectangle()\n",
        "rect.set_dimensions(33, 3)\n",
        "print(\"Area of the rectangle:\", rect.area())"
      ],
      "metadata": {
        "colab": {
          "base_uri": "https://localhost:8080/"
        },
        "id": "2G8Hn6SIspip",
        "outputId": "3ccf53ad-2d61-48e5-f0ac-519961d9d252"
      },
      "execution_count": 40,
      "outputs": [
        {
          "output_type": "stream",
          "name": "stdout",
          "text": [
            "Area of the rectangle: 99\n"
          ]
        }
      ]
    },
    {
      "cell_type": "code",
      "source": [
        "# Question 14. Create a class Employee with a method calculate_salary() that computes the salary based on hours worked and hourly rate. Create a derived class Manager\n",
        "# that adds a bonus to the salary.\n",
        "\n",
        "# Answer :\n",
        "\n",
        "class Employee:\n",
        "    def __init__(self, name, hours_worked, hourly_rate):\n",
        "        self.name = name\n",
        "        self.hours_worked = hours_worked\n",
        "        self.hourly_rate = hourly_rate\n",
        "\n",
        "    def calculate_salary(self):\n",
        "        return self.hours_worked * self.hourly_rate\n",
        "\n",
        "class Manager(Employee):\n",
        "    def __init__(self, name, hours_worked, hourly_rate, bonus):\n",
        "        self.name = name\n",
        "        self.hours_worked = hours_worked\n",
        "        self.hourly_rate = hourly_rate\n",
        "        self.bonus = bonus\n",
        "\n",
        "    def calculate_salary(self):\n",
        "        base_salary = Employee.calculate_salary(self)\n",
        "        return base_salary + self.bonus\n",
        "\n",
        "emp = Employee(\"Alice\", 40, 200)\n",
        "print(f\"{emp.name}'s salary: {emp.calculate_salary()}\")\n",
        "\n",
        "mgr = Manager(\"Bob\", 40, 250, 5000)\n",
        "print(f\"{mgr.name}'s salary: {mgr.calculate_salary()}\")"
      ],
      "metadata": {
        "colab": {
          "base_uri": "https://localhost:8080/"
        },
        "id": "KB8sW7Q0vcUb",
        "outputId": "2a5b2954-8691-4943-9d20-25d060e83200"
      },
      "execution_count": 41,
      "outputs": [
        {
          "output_type": "stream",
          "name": "stdout",
          "text": [
            "Alice's salary: 8000\n",
            "Bob's salary: 15000\n"
          ]
        }
      ]
    },
    {
      "cell_type": "code",
      "source": [
        "# Question 15. Create a class Product with attributes name, price, and quantity. Implement a method total_price() that calculates the total price of the product.\n",
        "\n",
        "# Answer :\n",
        "\n",
        "class Product:\n",
        "  def __init__(self, name, price, quantity):\n",
        "    self.name = name\n",
        "    self.price = price\n",
        "    self.quantity = quantity\n",
        "\n",
        "  def total_price(self):\n",
        "    return self.price * self.quantity\n",
        "\n",
        "p1 = Product(\"Apple\", 120, 3)\n",
        "print(f\"Total price of {p1.name}: {p1.total_price()}\")"
      ],
      "metadata": {
        "colab": {
          "base_uri": "https://localhost:8080/"
        },
        "id": "ani_ngE4wvp5",
        "outputId": "2ab079d1-8123-43fd-818e-39ba711b2df5"
      },
      "execution_count": 42,
      "outputs": [
        {
          "output_type": "stream",
          "name": "stdout",
          "text": [
            "Total price of Apple: 360\n"
          ]
        }
      ]
    },
    {
      "cell_type": "code",
      "source": [
        "# Question 16.  Create a class Animal with an abstract method sound(). Create two derived classes Cow and Sheep that implement the sound() method.\n",
        "\n",
        "# Answer :\n",
        "\n",
        "import abc\n",
        "\n",
        "class Animal(abc.ABC):\n",
        "    @abc.abstractmethod\n",
        "    def sound(self):\n",
        "        pass\n",
        "\n",
        "class Cow(Animal):\n",
        "    def sound(self):\n",
        "        print(\"Moo!\")\n",
        "\n",
        "class Sheep(Animal):\n",
        "    def sound(self):\n",
        "        print(\"Baa!\")\n",
        "\n",
        "c = Cow()\n",
        "c.sound()\n",
        "\n",
        "s = Sheep()\n",
        "s.sound()"
      ],
      "metadata": {
        "colab": {
          "base_uri": "https://localhost:8080/"
        },
        "id": "ySPzWwzkxlKG",
        "outputId": "a3b35d37-eab7-4d80-a032-b6b142e0986c"
      },
      "execution_count": 48,
      "outputs": [
        {
          "output_type": "stream",
          "name": "stdout",
          "text": [
            "Moo!\n",
            "Baa!\n"
          ]
        }
      ]
    },
    {
      "cell_type": "code",
      "source": [
        "# Question 17. Create a class Book with attributes title, author, and year_published. Add a method get_book_info() that returns a formatted string with the book's details.\n",
        "\n",
        "# Answer :\n",
        "\n",
        "class Book:\n",
        "    def __init__(self, title, author, year_published):\n",
        "        self.title = title\n",
        "        self.author = author\n",
        "        self.year_published = year_published\n",
        "\n",
        "    def get_book_info(self):\n",
        "        return f\"Title: {self.title}, Author: {self.author}, Year Published: {self.year_published}\"\n",
        "\n",
        "book = Book(\"To Kill a Mockingbird\", \"Harper Lee\", 1960)\n",
        "print(book.get_book_info())"
      ],
      "metadata": {
        "colab": {
          "base_uri": "https://localhost:8080/"
        },
        "id": "Io5F2Ux7yBQL",
        "outputId": "edfcf7c6-b667-43d8-e3ef-e4a28da9c81c"
      },
      "execution_count": 56,
      "outputs": [
        {
          "output_type": "stream",
          "name": "stdout",
          "text": [
            "Title: To Kill a Mockingbird, Author: Harper Lee, Year Published: 1960\n"
          ]
        }
      ]
    },
    {
      "cell_type": "code",
      "source": [
        "# Question 18. Create a class House with attributes address and price. Create a derived class Mansion that adds an attribute number_of_rooms.\n",
        "\n",
        "# Answer :\n",
        "\n",
        "class House:\n",
        "    def __init__(self, address, price):\n",
        "        self.address = address\n",
        "        self.price = price\n",
        "\n",
        "class Mansion(House):\n",
        "    def __init__(self, address, price, number_of_rooms):\n",
        "        House.__init__(self, address, price)\n",
        "        self.number_of_rooms = number_of_rooms\n",
        "\n",
        "m = Mansion(\"123 ABC XYZ St.\", 5000000, 6)\n",
        "print(f\"Address: {m.address}, Price: {m.price}, Rooms: {m.number_of_rooms}\")"
      ],
      "metadata": {
        "colab": {
          "base_uri": "https://localhost:8080/"
        },
        "id": "i2g-Rbrgy75K",
        "outputId": "1617cc51-8aca-418f-f583-2b19a16d04c5"
      },
      "execution_count": 59,
      "outputs": [
        {
          "output_type": "stream",
          "name": "stdout",
          "text": [
            "Address: 123 ABC XYZ St., Price: 5000000, Rooms: 6\n"
          ]
        }
      ]
    }
  ]
}